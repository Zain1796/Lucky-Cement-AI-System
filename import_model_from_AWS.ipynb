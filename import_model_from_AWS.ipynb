{
  "nbformat": 4,
  "nbformat_minor": 0,
  "metadata": {
    "colab": {
      "provenance": [],
      "include_colab_link": true
    },
    "kernelspec": {
      "name": "python3",
      "display_name": "Python 3"
    },
    "language_info": {
      "name": "python"
    }
  },
  "cells": [
    {
      "cell_type": "markdown",
      "metadata": {
        "id": "view-in-github",
        "colab_type": "text"
      },
      "source": [
        "<a href=\"https://colab.research.google.com/github/Zain1796/Lucky-Cement-AI-System/blob/main/import_model_from_AWS.ipynb\" target=\"_parent\"><img src=\"https://colab.research.google.com/assets/colab-badge.svg\" alt=\"Open In Colab\"/></a>"
      ]
    },
    {
      "cell_type": "code",
      "execution_count": null,
      "metadata": {
        "id": "bi9XuiyClbjX"
      },
      "outputs": [],
      "source": [
        "model_zip_link = \"http://157.*************/files/NER_finetuned_latest_checkpoint_5000.zip?********************34fdc2e6875e157af37%7C1722357017\""
      ]
    },
    {
      "cell_type": "code",
      "source": [
        "from google.colab import drive\n",
        "drive.mount('/content/drive')"
      ],
      "metadata": {
        "colab": {
          "base_uri": "https://localhost:8080/"
        },
        "id": "BMiDvI_DauLw",
        "outputId": "658644d1-e563-4761-d793-c450c56e54c1"
      },
      "execution_count": null,
      "outputs": [
        {
          "output_type": "stream",
          "name": "stdout",
          "text": [
            "Mounted at /content/drive\n"
          ]
        }
      ]
    },
    {
      "cell_type": "code",
      "source": [
        "!wget -O \"NER_finetuned_latest_checkpoint_5000.zip\" $model_zip_link"
      ],
      "metadata": {
        "colab": {
          "base_uri": "https://localhost:8080/"
        },
        "id": "BdbP88btllgk",
        "outputId": "c7140284-7ca0-45ac-d857-8f02fe323e1b"
      },
      "execution_count": null,
      "outputs": [
        {
          "output_type": "stream",
          "name": "stdout",
          "text": [
            "--2024-07-30 19:55:27--  http://157.175.229.50:8888/files/NER_finetuned_latest_checkpoint_5000.zip?_xsrf=2%7Cd8a88a6b%7C4aa8138a2229834fdc2e6875e157af37%7C1722357017\n",
            "Connecting to 157.175.229.50:8888... connected.\n",
            "HTTP request sent, awaiting response... 200 OK\n",
            "Length: 4030832623 (3.8G) [application/zip]\n",
            "Saving to: ‘NER_finetuned_latest_checkpoint_5000.zip’\n",
            "\n",
            "NER_finetuned_lates 100%[===================>]   3.75G  29.4MB/s    in 2m 16s  \n",
            "\n",
            "2024-07-30 19:57:44 (28.2 MB/s) - ‘NER_finetuned_latest_checkpoint_5000.zip’ saved [4030832623/4030832623]\n",
            "\n"
          ]
        }
      ]
    },
    {
      "cell_type": "code",
      "source": [
        "!unzip -q \"NER_finetuned_latest_checkpoint_5000.zip\" -d \"/content/drive/MyDrive/Joyn_NewDataNLP/models/NER_finetuned_latest_checkpoint_5000\""
      ],
      "metadata": {
        "id": "kQTXnD2NbWWA"
      },
      "execution_count": null,
      "outputs": []
    },
    {
      "cell_type": "markdown",
      "source": [
        "#Below section is irrelevant"
      ],
      "metadata": {
        "id": "bWkUv63R1Yr9"
      }
    },
    {
      "cell_type": "code",
      "source": [
        "import random\n",
        "\n",
        "def generate_random_list(names, n):\n",
        "    if n % len(names) != 0:\n",
        "        raise ValueError(\"Number of names should evenly divide the size of the new list\")\n",
        "\n",
        "    representatives_per_name = n // len(names)\n",
        "    result_list = []\n",
        "\n",
        "    for name in names:\n",
        "        result_list.extend([name] * representatives_per_name)\n",
        "\n",
        "    random.shuffle(result_list)\n",
        "    return result_list\n",
        "\n",
        "# Example usage:\n",
        "names_list = [\"Alice\", \"Bob\", \"Charlie\", \"David\"]\n",
        "new_list_size = 52\n",
        "\n",
        "random_list = generate_random_list(names_list, new_list_size)\n",
        "for r in random_list:\n",
        "  print(r)\n"
      ],
      "metadata": {
        "colab": {
          "base_uri": "https://localhost:8080/"
        },
        "id": "HxTyL3PGprzg",
        "outputId": "9eae7992-9718-49e7-c76e-0753c5f7eda3"
      },
      "execution_count": null,
      "outputs": [
        {
          "output_type": "stream",
          "name": "stdout",
          "text": [
            "David\n",
            "Charlie\n",
            "Bob\n",
            "Charlie\n",
            "Bob\n",
            "Alice\n",
            "Charlie\n",
            "Alice\n",
            "Alice\n",
            "Charlie\n",
            "Charlie\n",
            "Bob\n",
            "David\n",
            "Charlie\n",
            "David\n",
            "Bob\n",
            "Bob\n",
            "Charlie\n",
            "Charlie\n",
            "Alice\n",
            "David\n",
            "Alice\n",
            "David\n",
            "Alice\n",
            "Charlie\n",
            "Alice\n",
            "Charlie\n",
            "Alice\n",
            "Bob\n",
            "Bob\n",
            "Bob\n",
            "David\n",
            "David\n",
            "David\n",
            "Bob\n",
            "Bob\n",
            "David\n",
            "Alice\n",
            "Alice\n",
            "Bob\n",
            "Bob\n",
            "David\n",
            "David\n",
            "Charlie\n",
            "Alice\n",
            "Alice\n",
            "Bob\n",
            "David\n",
            "Alice\n",
            "Charlie\n",
            "David\n",
            "Charlie\n"
          ]
        }
      ]
    },
    {
      "cell_type": "code",
      "source": [
        "import random\n",
        "\n",
        "def generate_random_list(names, n):\n",
        "    representatives_per_name = n // len(names)\n",
        "    result_list = []\n",
        "\n",
        "    for name in names:\n",
        "        result_list.extend([name] * representatives_per_name)\n",
        "\n",
        "    # Handle the remainder\n",
        "    remainder = n % len(names)\n",
        "    if remainder != 0:\n",
        "        # randomly select a subset of names to add to the list\n",
        "        additional_names = random.sample(names, remainder)\n",
        "        result_list.extend(additional_names)\n",
        "\n",
        "    random.shuffle(result_list)\n",
        "    return result_list\n",
        "\n",
        "# Example usage:\n",
        "names_list = [\"Anees\", \"faisal\", \"hassan\", \"Zain\"]\n",
        "new_list_size = 49  # or 10\n",
        "\n",
        "random_list = generate_random_list(names_list, new_list_size)\n",
        "\n",
        "\n",
        "# audio_count = {name: random_list.count(name) for name in set(names_list)}\n",
        "\n",
        "# for name, count in audio_count.items():\n",
        "#     print(f\"{count} audio{'s' if count != 1 else ''} for {name}\")\n",
        "\n",
        "# print()\n",
        "# for r in random_list:\n",
        "#     print(r)\n",
        "#audio counter\n",
        "audio_count= {name:random_list.count(name) for name in set(names_list)}\n",
        "\n",
        "for name, count in audio_count.items():\n",
        "   print(f\"{count} audio{'s' if count !=1 else ''} for {name}\")\n",
        "\n",
        "print()\n",
        "for r in random_list:\n",
        "    print(r)\n",
        "\n",
        "\n"
      ],
      "metadata": {
        "id": "9zTzZTeBwUJH",
        "colab": {
          "base_uri": "https://localhost:8080/"
        },
        "outputId": "cd503c85-e1fe-4cee-953b-74c0f4f0d41c"
      },
      "execution_count": null,
      "outputs": [
        {
          "output_type": "stream",
          "name": "stdout",
          "text": [
            "12 audios for Zain\n",
            "12 audios for hassan\n",
            "13 audios for faisal\n",
            "12 audios for Anees\n",
            "\n",
            "Zain\n",
            "faisal\n",
            "Anees\n",
            "Zain\n",
            "Zain\n",
            "Anees\n",
            "faisal\n",
            "Anees\n",
            "hassan\n",
            "hassan\n",
            "Anees\n",
            "faisal\n",
            "Zain\n",
            "Zain\n",
            "Zain\n",
            "Anees\n",
            "hassan\n",
            "Zain\n",
            "faisal\n",
            "faisal\n",
            "Anees\n",
            "Anees\n",
            "Anees\n",
            "faisal\n",
            "Zain\n",
            "faisal\n",
            "hassan\n",
            "hassan\n",
            "Anees\n",
            "faisal\n",
            "faisal\n",
            "Anees\n",
            "faisal\n",
            "hassan\n",
            "Anees\n",
            "Zain\n",
            "hassan\n",
            "hassan\n",
            "hassan\n",
            "Zain\n",
            "Zain\n",
            "Zain\n",
            "faisal\n",
            "faisal\n",
            "faisal\n",
            "hassan\n",
            "hassan\n",
            "hassan\n",
            "Anees\n"
          ]
        }
      ]
    },
    {
      "cell_type": "code",
      "source": [
        "df = pd.DataFrame(audioTranscripts, columns=[\"Corrected\", \"Usable\",\"Comment\" ,\"Reviewer\",\"Notes\"])\n",
        "xlsx_file_path = \"/content/drive/MyDrive/Joyn_NewDataNLP/Excel_sheets/WhisperTrainData.xlsx\"\n",
        "\n",
        "with pd.ExcelWriter(xlsx_file_path, engine='openpyxl', mode='a', if_sheet_exists='replace') as writer:\n",
        "  df.to_excel(writer, sheet_name=target_date, index=False)"
      ],
      "metadata": {
        "id": "16D-AY-PCHdX"
      },
      "execution_count": null,
      "outputs": []
    },
    {
      "cell_type": "code",
      "source": [
        "import pandas as pd\n",
        "import random\n",
        "\n",
        "xlsx_file_path = \"/content/drive/MyDrive/Joyn_NewDataNLP/Excel_sheets/WhisperTrainData.xlsx\"\n",
        "existing_df = pd.read_excel(xlsx_file_path, sheet_name='your_sheet_name')\n",
        "\n",
        "\n",
        "def generate_random_list(names, n):\n",
        "    representatives_per_name = n // len(names)\n",
        "    result_list = []\n",
        "\n",
        "    for name in names:\n",
        "        result_list.extend([name] * representatives_per_name)\n",
        "\n",
        "    # Handle the remainder\n",
        "    remainder = n % len(names)\n",
        "    if remainder != 0:\n",
        "        # randomly select a subset of names to add to the list\n",
        "        additional_names = random.sample(names, remainder)\n",
        "        result_list.extend(additional_names)\n",
        "\n",
        "    random.shuffle(result_list)\n",
        "    return result_list\n",
        "\n",
        "# Example usage:\n",
        "names_list = [\"Anees\", \"faisal\", \"hassan\", \"Zain\"]\n",
        "new_list_size = 49  # or 10\n",
        "\n",
        "random_list = generate_random_list(names_list, new_list_size)\n",
        "\n",
        "\n",
        "# audio_count = {name: random_list.count(name) for name in set(names_list)}\n",
        "\n",
        "# for name, count in audio_count.items():\n",
        "#     print(f\"{count} audio{'s' if count != 1 else ''} for {name}\")\n",
        "\n",
        "# print()\n",
        "# for r in random_list:\n",
        "#     print(r)\n",
        "#audio counter\n",
        "audio_count= {name:random_list.count(name) for name in set(names_list)}\n",
        "\n",
        "for name, count in audio_count.items():\n",
        "   print(f\"{count} audio{'s' if count !=1 else ''} for {name}\")\n",
        "\n",
        "print()\n",
        "for r in random_list:\n",
        "    print(r)\n",
        "\n",
        "# Divide the audio names among four reviewers\n",
        "num_reviewers = 4\n",
        "reviewer_assignment = np.random.choice(range(names_list), size=len(new_list_size))\n",
        "\n",
        "existing_df['Reviewer'] = reviewer_assignment\n",
        "\n",
        "existing_df['Corrected'] = \"\"\n",
        "existing_df['Usable'] = \"\"\n",
        "existing_df['Comment'] = \"\"\n",
        "existing_df['Notes'] = \"\"\n",
        "\n",
        "with pd.ExcelWriter(xlsx_file_path, engine='openpyxl', mode='a', if_sheet_exists='replace') as writer:\n",
        "    existing_df.to_excel(writer, sheet_name='your_sheet_name', index=False)\n"
      ],
      "metadata": {
        "id": "pxJuC-yR-wMf"
      },
      "execution_count": null,
      "outputs": []
    },
    {
      "cell_type": "code",
      "source": [
        "import pandas as pd\n",
        "import numpy as np  # Import numpy for random choice\n",
        "import random\n",
        "\n",
        "xlsx_file_path = \"/content/drive/MyDrive/Joyn_NewDataNLP/Excel_sheets/WhisperTrainData.xlsx\"\n",
        "existing_df = pd.read_excel(xlsx_file_path, sheet_name='your_sheet_name')\n",
        "\n",
        "\n",
        "\n",
        "def generate_random_list(names, n):\n",
        "    representatives_per_name = n // len(names)\n",
        "    result_list = []\n",
        "\n",
        "    for name in names:\n",
        "        result_list.extend([name] * representatives_per_name)\n",
        "\n",
        "    # Handle the remainder\n",
        "    remainder = n % len(names)\n",
        "    if remainder != 0:\n",
        "        # randomly select a subset of names to add to the list\n",
        "        additional_names = random.sample(names, remainder)\n",
        "        result_list.extend(additional_names)\n",
        "\n",
        "    random.shuffle(result_list)\n",
        "    return result_list\n",
        "\n",
        "# Example usage:\n",
        "names_list = [\"Anees\", \"faisal\", \"hassan\", \"Zain\"]\n",
        "new_list_size = 49  # or 10\n",
        "\n",
        "random_list = generate_random_list(names_list, new_list_size)\n",
        "\n",
        "\n",
        "# audio_count = {name: random_list.count(name) for name in set(names_list)}\n",
        "\n",
        "# for name, count in audio_count.items():\n",
        "#     print(f\"{count} audio{'s' if count != 1 else ''} for {name}\")\n",
        "\n",
        "# print()\n",
        "# for r in random_list:\n",
        "#     print(r)\n",
        "#audio counter\n",
        "audio_count= {name:random_list.count(name) for name in set(names_list)}\n",
        "\n",
        "for name, count in audio_count.items():\n",
        "   print(f\"{count} audio{'s' if count !=1 else ''} for {name}\")\n",
        "\n",
        "print()\n",
        "for r in random_list:\n",
        "    print(r)\n",
        "\n",
        "# Divide the audio names among four reviewers\n",
        "# num_reviewers = 4\n",
        "# reviewer_assignment = np.random.choice(len(names_list), size=new_list_size)\n",
        "\n",
        "existing_df['Reviewer'] = random_list\n",
        "\n",
        "existing_df['Corrected'] = \"\"\n",
        "existing_df['Usable'] = \"\"\n",
        "existing_df['Comment'] = \"\"\n",
        "existing_df['Notes'] = \"\"\n",
        "\n",
        "with pd.ExcelWriter(xlsx_file_path, engine='openpyxl', mode='a', if_sheet_exists='replace') as writer:\n",
        "    existing_df.to_excel(writer, sheet_name='your_sheet_name', index=False)\n"
      ],
      "metadata": {
        "id": "Wwba7JfdCsjm"
      },
      "execution_count": null,
      "outputs": []
    }
  ]
}