{
  "cells": [
    {
      "cell_type": "markdown",
      "metadata": {
        "id": "view-in-github",
        "colab_type": "text"
      },
      "source": [
        "<a href=\"https://colab.research.google.com/github/Zain1796/Lucky-Cement-AI-System/blob/main/NER_by_LLM.ipynb\" target=\"_parent\"><img src=\"https://colab.research.google.com/assets/colab-badge.svg\" alt=\"Open In Colab\"/></a>"
      ]
    },
    {
      "cell_type": "code",
      "execution_count": null,
      "metadata": {
        "colab": {
          "base_uri": "https://localhost:8080/"
        },
        "id": "aSLuoiA2Xtvd",
        "outputId": "fbd37e33-85c3-47ea-d33e-e218a0626f58"
      },
      "outputs": [
        {
          "output_type": "stream",
          "name": "stdout",
          "text": [
            "Collecting openai==0.27.0\n",
            "  Downloading openai-0.27.0-py3-none-any.whl.metadata (13 kB)\n",
            "Requirement already satisfied: requests>=2.20 in /usr/local/lib/python3.10/dist-packages (from openai==0.27.0) (2.32.3)\n",
            "Requirement already satisfied: tqdm in /usr/local/lib/python3.10/dist-packages (from openai==0.27.0) (4.66.5)\n",
            "Requirement already satisfied: aiohttp in /usr/local/lib/python3.10/dist-packages (from openai==0.27.0) (3.10.10)\n",
            "Requirement already satisfied: charset-normalizer<4,>=2 in /usr/local/lib/python3.10/dist-packages (from requests>=2.20->openai==0.27.0) (3.4.0)\n",
            "Requirement already satisfied: idna<4,>=2.5 in /usr/local/lib/python3.10/dist-packages (from requests>=2.20->openai==0.27.0) (3.10)\n",
            "Requirement already satisfied: urllib3<3,>=1.21.1 in /usr/local/lib/python3.10/dist-packages (from requests>=2.20->openai==0.27.0) (2.2.3)\n",
            "Requirement already satisfied: certifi>=2017.4.17 in /usr/local/lib/python3.10/dist-packages (from requests>=2.20->openai==0.27.0) (2024.8.30)\n",
            "Requirement already satisfied: aiohappyeyeballs>=2.3.0 in /usr/local/lib/python3.10/dist-packages (from aiohttp->openai==0.27.0) (2.4.3)\n",
            "Requirement already satisfied: aiosignal>=1.1.2 in /usr/local/lib/python3.10/dist-packages (from aiohttp->openai==0.27.0) (1.3.1)\n",
            "Requirement already satisfied: attrs>=17.3.0 in /usr/local/lib/python3.10/dist-packages (from aiohttp->openai==0.27.0) (24.2.0)\n",
            "Requirement already satisfied: frozenlist>=1.1.1 in /usr/local/lib/python3.10/dist-packages (from aiohttp->openai==0.27.0) (1.4.1)\n",
            "Requirement already satisfied: multidict<7.0,>=4.5 in /usr/local/lib/python3.10/dist-packages (from aiohttp->openai==0.27.0) (6.1.0)\n",
            "Requirement already satisfied: yarl<2.0,>=1.12.0 in /usr/local/lib/python3.10/dist-packages (from aiohttp->openai==0.27.0) (1.14.0)\n",
            "Requirement already satisfied: async-timeout<5.0,>=4.0 in /usr/local/lib/python3.10/dist-packages (from aiohttp->openai==0.27.0) (4.0.3)\n",
            "Requirement already satisfied: typing-extensions>=4.1.0 in /usr/local/lib/python3.10/dist-packages (from multidict<7.0,>=4.5->aiohttp->openai==0.27.0) (4.12.2)\n",
            "Requirement already satisfied: propcache>=0.2.0 in /usr/local/lib/python3.10/dist-packages (from yarl<2.0,>=1.12.0->aiohttp->openai==0.27.0) (0.2.0)\n",
            "Downloading openai-0.27.0-py3-none-any.whl (70 kB)\n",
            "\u001b[?25l   \u001b[90m━━━━━━━━━━━━━━━━━━━━━━━━━━━━━━━━━━━━━━━━\u001b[0m \u001b[32m0.0/70.1 kB\u001b[0m \u001b[31m?\u001b[0m eta \u001b[36m-:--:--\u001b[0m\r\u001b[2K   \u001b[90m━━━━━━━━━━━━━━━━━━━━━━━━━━━━━━━━━━━━━━━━\u001b[0m \u001b[32m70.1/70.1 kB\u001b[0m \u001b[31m4.3 MB/s\u001b[0m eta \u001b[36m0:00:00\u001b[0m\n",
            "\u001b[?25hInstalling collected packages: openai\n",
            "Successfully installed openai-0.27.0\n",
            "Collecting tiktoken\n",
            "  Downloading tiktoken-0.8.0-cp310-cp310-manylinux_2_17_x86_64.manylinux2014_x86_64.whl.metadata (6.6 kB)\n",
            "Requirement already satisfied: regex>=2022.1.18 in /usr/local/lib/python3.10/dist-packages (from tiktoken) (2024.9.11)\n",
            "Requirement already satisfied: requests>=2.26.0 in /usr/local/lib/python3.10/dist-packages (from tiktoken) (2.32.3)\n",
            "Requirement already satisfied: charset-normalizer<4,>=2 in /usr/local/lib/python3.10/dist-packages (from requests>=2.26.0->tiktoken) (3.4.0)\n",
            "Requirement already satisfied: idna<4,>=2.5 in /usr/local/lib/python3.10/dist-packages (from requests>=2.26.0->tiktoken) (3.10)\n",
            "Requirement already satisfied: urllib3<3,>=1.21.1 in /usr/local/lib/python3.10/dist-packages (from requests>=2.26.0->tiktoken) (2.2.3)\n",
            "Requirement already satisfied: certifi>=2017.4.17 in /usr/local/lib/python3.10/dist-packages (from requests>=2.26.0->tiktoken) (2024.8.30)\n",
            "Downloading tiktoken-0.8.0-cp310-cp310-manylinux_2_17_x86_64.manylinux2014_x86_64.whl (1.2 MB)\n",
            "\u001b[2K   \u001b[90m━━━━━━━━━━━━━━━━━━━━━━━━━━━━━━━━━━━━━━━━\u001b[0m \u001b[32m1.2/1.2 MB\u001b[0m \u001b[31m35.6 MB/s\u001b[0m eta \u001b[36m0:00:00\u001b[0m\n",
            "\u001b[?25hInstalling collected packages: tiktoken\n",
            "Successfully installed tiktoken-0.8.0\n",
            "Requirement already satisfied: torchaudio in /usr/local/lib/python3.10/dist-packages (2.4.1+cu121)\n",
            "Requirement already satisfied: librosa in /usr/local/lib/python3.10/dist-packages (0.10.2.post1)\n",
            "Requirement already satisfied: transformers in /usr/local/lib/python3.10/dist-packages (4.44.2)\n",
            "Requirement already satisfied: openpyxl in /usr/local/lib/python3.10/dist-packages (3.1.5)\n",
            "Requirement already satisfied: pandas in /usr/local/lib/python3.10/dist-packages (2.2.2)\n",
            "Requirement already satisfied: torch in /usr/local/lib/python3.10/dist-packages (2.4.1+cu121)\n",
            "Requirement already satisfied: filelock in /usr/local/lib/python3.10/dist-packages (from torch) (3.16.1)\n",
            "Requirement already satisfied: typing-extensions>=4.8.0 in /usr/local/lib/python3.10/dist-packages (from torch) (4.12.2)\n",
            "Requirement already satisfied: sympy in /usr/local/lib/python3.10/dist-packages (from torch) (1.13.3)\n",
            "Requirement already satisfied: networkx in /usr/local/lib/python3.10/dist-packages (from torch) (3.4)\n",
            "Requirement already satisfied: jinja2 in /usr/local/lib/python3.10/dist-packages (from torch) (3.1.4)\n",
            "Requirement already satisfied: fsspec in /usr/local/lib/python3.10/dist-packages (from torch) (2024.6.1)\n",
            "Requirement already satisfied: audioread>=2.1.9 in /usr/local/lib/python3.10/dist-packages (from librosa) (3.0.1)\n",
            "Requirement already satisfied: numpy!=1.22.0,!=1.22.1,!=1.22.2,>=1.20.3 in /usr/local/lib/python3.10/dist-packages (from librosa) (1.26.4)\n",
            "Requirement already satisfied: scipy>=1.2.0 in /usr/local/lib/python3.10/dist-packages (from librosa) (1.13.1)\n",
            "Requirement already satisfied: scikit-learn>=0.20.0 in /usr/local/lib/python3.10/dist-packages (from librosa) (1.5.2)\n",
            "Requirement already satisfied: joblib>=0.14 in /usr/local/lib/python3.10/dist-packages (from librosa) (1.4.2)\n",
            "Requirement already satisfied: decorator>=4.3.0 in /usr/local/lib/python3.10/dist-packages (from librosa) (4.4.2)\n",
            "Requirement already satisfied: numba>=0.51.0 in /usr/local/lib/python3.10/dist-packages (from librosa) (0.60.0)\n",
            "Requirement already satisfied: soundfile>=0.12.1 in /usr/local/lib/python3.10/dist-packages (from librosa) (0.12.1)\n",
            "Requirement already satisfied: pooch>=1.1 in /usr/local/lib/python3.10/dist-packages (from librosa) (1.8.2)\n",
            "Requirement already satisfied: soxr>=0.3.2 in /usr/local/lib/python3.10/dist-packages (from librosa) (0.5.0.post1)\n",
            "Requirement already satisfied: lazy-loader>=0.1 in /usr/local/lib/python3.10/dist-packages (from librosa) (0.4)\n",
            "Requirement already satisfied: msgpack>=1.0 in /usr/local/lib/python3.10/dist-packages (from librosa) (1.0.8)\n",
            "Requirement already satisfied: huggingface-hub<1.0,>=0.23.2 in /usr/local/lib/python3.10/dist-packages (from transformers) (0.24.7)\n",
            "Requirement already satisfied: packaging>=20.0 in /usr/local/lib/python3.10/dist-packages (from transformers) (24.1)\n",
            "Requirement already satisfied: pyyaml>=5.1 in /usr/local/lib/python3.10/dist-packages (from transformers) (6.0.2)\n",
            "Requirement already satisfied: regex!=2019.12.17 in /usr/local/lib/python3.10/dist-packages (from transformers) (2024.9.11)\n",
            "Requirement already satisfied: requests in /usr/local/lib/python3.10/dist-packages (from transformers) (2.32.3)\n",
            "Requirement already satisfied: safetensors>=0.4.1 in /usr/local/lib/python3.10/dist-packages (from transformers) (0.4.5)\n",
            "Requirement already satisfied: tokenizers<0.20,>=0.19 in /usr/local/lib/python3.10/dist-packages (from transformers) (0.19.1)\n",
            "Requirement already satisfied: tqdm>=4.27 in /usr/local/lib/python3.10/dist-packages (from transformers) (4.66.5)\n",
            "Requirement already satisfied: et-xmlfile in /usr/local/lib/python3.10/dist-packages (from openpyxl) (1.1.0)\n",
            "Requirement already satisfied: python-dateutil>=2.8.2 in /usr/local/lib/python3.10/dist-packages (from pandas) (2.8.2)\n",
            "Requirement already satisfied: pytz>=2020.1 in /usr/local/lib/python3.10/dist-packages (from pandas) (2024.2)\n",
            "Requirement already satisfied: tzdata>=2022.7 in /usr/local/lib/python3.10/dist-packages (from pandas) (2024.2)\n",
            "Requirement already satisfied: llvmlite<0.44,>=0.43.0dev0 in /usr/local/lib/python3.10/dist-packages (from numba>=0.51.0->librosa) (0.43.0)\n",
            "Requirement already satisfied: platformdirs>=2.5.0 in /usr/local/lib/python3.10/dist-packages (from pooch>=1.1->librosa) (4.3.6)\n",
            "Requirement already satisfied: six>=1.5 in /usr/local/lib/python3.10/dist-packages (from python-dateutil>=2.8.2->pandas) (1.16.0)\n",
            "Requirement already satisfied: charset-normalizer<4,>=2 in /usr/local/lib/python3.10/dist-packages (from requests->transformers) (3.4.0)\n",
            "Requirement already satisfied: idna<4,>=2.5 in /usr/local/lib/python3.10/dist-packages (from requests->transformers) (3.10)\n",
            "Requirement already satisfied: urllib3<3,>=1.21.1 in /usr/local/lib/python3.10/dist-packages (from requests->transformers) (2.2.3)\n",
            "Requirement already satisfied: certifi>=2017.4.17 in /usr/local/lib/python3.10/dist-packages (from requests->transformers) (2024.8.30)\n",
            "Requirement already satisfied: threadpoolctl>=3.1.0 in /usr/local/lib/python3.10/dist-packages (from scikit-learn>=0.20.0->librosa) (3.5.0)\n",
            "Requirement already satisfied: cffi>=1.0 in /usr/local/lib/python3.10/dist-packages (from soundfile>=0.12.1->librosa) (1.17.1)\n",
            "Requirement already satisfied: MarkupSafe>=2.0 in /usr/local/lib/python3.10/dist-packages (from jinja2->torch) (3.0.1)\n",
            "Requirement already satisfied: mpmath<1.4,>=1.1.0 in /usr/local/lib/python3.10/dist-packages (from sympy->torch) (1.3.0)\n",
            "Requirement already satisfied: pycparser in /usr/local/lib/python3.10/dist-packages (from cffi>=1.0->soundfile>=0.12.1->librosa) (2.22)\n"
          ]
        }
      ],
      "source": [
        "!pip install openai==0.27.0\n",
        "!pip install tiktoken\n",
        "!pip install torchaudio librosa transformers openpyxl pandas torch"
      ]
    },
    {
      "cell_type": "code",
      "execution_count": null,
      "metadata": {
        "id": "ZDo5gGzuXzrt"
      },
      "outputs": [],
      "source": [
        "import openai\n",
        "import pandas as pd\n",
        "import json\n",
        "import numpy as np\n",
        "import ast"
      ]
    },
    {
      "cell_type": "code",
      "execution_count": null,
      "metadata": {
        "colab": {
          "base_uri": "https://localhost:8080/"
        },
        "id": "IjmeHt1gWLqZ",
        "outputId": "b641711a-e1e5-478d-f185-33242bb6455b"
      },
      "outputs": [
        {
          "output_type": "stream",
          "name": "stdout",
          "text": [
            "Mounted at /content/drive\n"
          ]
        }
      ],
      "source": [
        "from google.colab import drive\n",
        "drive.mount('/content/drive')"
      ]
    },
    {
      "cell_type": "code",
      "execution_count": null,
      "metadata": {
        "id": "ylX5rD5YWNYC"
      },
      "outputs": [],
      "source": [
        "with open('/content/drive/MyDrive/Joyn_NewDataNLP/colab_notebooks/api_key.txt') as f:\n",
        "    api_key = f.read().strip()"
      ]
    },
    {
      "cell_type": "code",
      "execution_count": null,
      "metadata": {
        "id": "ZJQO83UQXZ95"
      },
      "outputs": [],
      "source": [
        "openai.api_key = api_key"
      ]
    },
    {
      "cell_type": "code",
      "source": [
        "def extract_cement_entities(transcription_text):\n",
        "\n",
        "    prompt_template = \"\"\"\n",
        "    You are a Quality Control Specialist overseeing field operations. You will analyze a transcript of a conversation between a retailer and an inquirer in Urdu, related to Pakistan’s cement market. Your task is to extract specific named entities.\n",
        "\n",
        "    The conversation will mention various cement brands, focusing on details such as landed price, retail price, margins, sale quantity, stock, supplier, and payment methods. Extract the following information for the listed cement brands: 'DG', 'Lucky', 'Thatta', 'PakLand', 'Power', 'Falcon'. Any other brand should be categorized as 'Other'.\n",
        "\n",
        "    For each brand, extract these details:\n",
        "    - 'Landed': The rate at which cement is delivered to the outlet, including transport costs. For example, if the speaker askes \"کتنے میں پڑا ہے \",\"پہنچ کتنا ہے \",\"کتنے میں آ رہا ہے  \",\"دے رہا ہے \",\"دیتے ہیں \" and \"لےنڈڈ \".\n",
        "    - 'Retail': The rate at which the retailer is selling the cement brand. For example, if the speaker asks \"کیا ریٹ چل رہا ہے \", and the response is \"1030,\" this should be captured as the 'Retail' price for that brand.\n",
        "    - 'Margin': This refers to the margin or savings per sale that the outlet earns. Include this only if there is an explicit mention in the conversation.\n",
        "    - 'Sale Quantity': The total units sold by the outlet, expressed in either tons or bags.For example \"کتنی کی چال ہے \" and the responce is 40 this should be capture is 'Sale Quantity' of that brand.\n",
        "    - 'Stock': The total available stock at the outlet in terms of bags(بوری) if there is any other quantity mentione pick that with the value.For example if the speaker asks \"کتنا پڑا ہوا ہے \" and the response is \"بوری پڑی ہے 40\",this should be captured as the 'Stock' for that brand.\n",
        "    - 'Supplier': The dealer or supplier providing the cement to the retailer/outler or from the whole saler the retailer is buying the brands stock from.\n",
        "    - 'Payment_Method': The payment method is the way at which funds is transfered or transiction has been occured, such as cash, check, credit (in case it mentions \"udhaar\" it means credit).\n",
        "\n",
        "\n",
        "    Some things to keep in mind:\n",
        "    - You have to always capture the updated/corrected values in the conversation. For example, if the speaker askes \"1020 mi a raha hay?\" and the response is \"Nhi 1040\" so 1040 should be captured as the 'Landed' price for that brand. Basically you should seek the confirmed value when there are two values for the same entity.\n",
        "    - Any other brands not listed are grouped under 'Other'.\n",
        "    - Differntiae between 'Landed' and 'Retail'.For example if the response is \"20 30\" it can be either 'Landed' or 'Retail' and capture the updated one.\n",
        "\n",
        "    Provide the output in the following JSON format as a dictionary (do not mention the term `json` in the output):\n",
        "\n",
        "    {{\n",
        "        'DG': {{'Landed': '', 'Retail': '', 'Margin': '', 'Sale Quantity': '', 'Stock': '', 'Supplier': ''}},\n",
        "        'Lucky': {{'Landed': '', 'Retail': '', 'Margin': '', 'Sale Quantity': '', 'Stock': '', 'Supplier': ''}},\n",
        "        'Thatta': {{'Landed': '', 'Retail': '', 'Margin': '', 'Sale Quantity': '', 'Stock': '', 'Supplier': ''}},\n",
        "        'PakLand': {{'Landed': '', 'Retail': '', 'Margin': '', 'Sale Quantity': '', 'Stock': '', 'Supplier': ''}},\n",
        "        'Power': {{'Landed': '', 'Retail': '', 'Margin': '', 'Sale Quantity': '', 'Stock': '', 'Supplier': ''}},\n",
        "        'Falcon': {{'Landed': '', 'Retail': '', 'Margin': '', 'Sale Quantity': '', 'Stock': '', 'Supplier': ''}},\n",
        "        'Other': {{'Landed': '', 'Retail': '', 'Margin': '', 'Sale Quantity': '', 'Stock': '', 'Supplier': ''}},\n",
        "        'Payment_Method': ''\n",
        "    }}\n",
        "\n",
        "    Following the dictionary, provide Qualitative anlysis as a market expert in a text each qualitative analysis against each topic should be in two lines.\n",
        "    You are also to provide a brief analysis from Sales point of view of the overall transcript for the management to get a summary view if needed.A summary of the sales perspective to give management an overview of market trends\n",
        "    based on the mentioned brands. If the transcript is too short and does not contain enough context, Write \"Nothing useful in transcript\".\n",
        "\n",
        "    You will repeatedly see '#' in the transcript text, it is an identifier for speaker changed. As it's a conversation between two people speaker is changed as one asks question and the other answers and vice versa.\n",
        "\n",
        "    The text is in Urdu with numbers in normal english digits, and you must pick the relative values and names as is when writing in the dict.\n",
        "\n",
        "    Note: The result should only have 2 parts: first part should only be dictionary as explained and second part should be qualitative analysis.\n",
        "\"\"\"\n",
        "\n",
        "\n",
        "    try:\n",
        "        response = openai.ChatCompletion.create(\n",
        "            model=\"gpt-4o-mini\",\n",
        "            messages=[\n",
        "                {\"role\": \"system\", \"content\": prompt_template},\n",
        "                {\"role\": \"user\", \"content\": transcription_text}\n",
        "            ],\n",
        "            max_tokens=2000,\n",
        "            temperature=0.01,\n",
        "        )\n",
        "\n",
        "        result =  response['choices'][0]['message']['content']\n",
        "\n",
        "        result_parts = result.split(\"\\n\\n\", 1)  # Split by two newlines\n",
        "\n",
        "        # The first part is the dictionary (entities), convert it to a Python dict\n",
        "        entities_dict_str = result_parts[0].strip()  # The first part should be the dictionary in string format\n",
        "\n",
        "        try:\n",
        "            # Use ast.literal_eval to convert the string representation of the dictionary into an actual dict\n",
        "            entities_dict = ast.literal_eval(entities_dict_str)\n",
        "        except (ValueError, SyntaxError) as e:\n",
        "            print(f\"Error parsing dictionary from response: {e}\")\n",
        "            entities_dict = {}\n",
        "\n",
        "        summary = result_parts[1].strip() if len(result_parts) > 1 else \"\"\n",
        "\n",
        "        return entities_dict, summary\n",
        "    except openai.error.InvalidRequestError as e:\n",
        "        print(f\"Invalid request error: {e}\")\n",
        "        return None\n",
        "    except openai.error.OpenAIError as e:\n",
        "        print(f\"OpenAI API error: {e}\")\n",
        "        return None"
      ],
      "metadata": {
        "id": "n1vCbVeBVri3"
      },
      "execution_count": null,
      "outputs": []
    },
    {
      "cell_type": "code",
      "source": [
        "tp = \" یار بھائی یار بھائی  شکر ہم کو شکر ہم کو لگاے ہیں کن بونیہ لگاے ہیں الله معاف کرے کس کو مجھے 2 3 ہفتے سے گھر پے تھا الله کا شکر بس # بیماری بہت ہوگی یار # الله معاف کرے اسی وہ باہر ہے بچے گود ہے کچھ نہیں دیکھ رہے ہیں 2 2 3 3 ہفتہ گھر پے بھی اٹھا رہے ہیں # یہ یہ کچھ ہی اسکے # یار یہ ایک مچھا رہے ہیں مچھد سے مدے دیا ہے ڈینگی چکن گونی ہے اس کے ٹیقری میں بیماری الگ رہی ہے اس پر بھرے بھرے ہیں # اچھی نہیں # ڈینگی وغیرہ جو ہے اس سیل پنجاب کی طرف اس طرف ہے تو یہ سب سے زیادہ جو ہے چکن گونی ہے اچھی بخاریہ 3 3 میں اتار دیتا ہے وہ چلو ڈاکٹر میڈیکلی ہوجاتا ہے اس کا عل اس کا علاق نہیں ہے کاموں کا در ترلوں میں در نہیں ہے # یہ ڈم درو بھی یہ شفاہ اس سے ہوجاتا ہے الگ بات تو نہیں دائے گا  لیکن اس سے کام کیا کر رہا ہے کام ہلی ہیں سب چلو # میں نے کہا مزدور کو نہیں دے مزدور تو وہ ہے نا جو روز کمانا روز کھانے والا ہے اس کو نہیں دے ایک دو بندوں کو ہوا تھا سیمنٹ والاقے میں اس نے پتا نہیں کوئی میرے علاقے میں دکان میں کی مہینے کوئی بوری ٹم کرتا ہوا دے رہا ہے مجھے پتا نہیں اس نے بولا یار میرے مزدور گر دیتے ہیں ماشاللہ بوری تھی دوسرے دن کھڑے ہوگئے میں اس کے پاس بوری مجھے اس سے تھوڑا فرق آیا ماشاللہ الله کے پاس کلامی چیز نے تم کیم ہے # الله پر کچھ پاس دیتا ہے # زندگی بھی تھوڑا لیٹ ہوگیا دیتا ہے میں نے ایک دو گولیاں خائی مجھے بھی تھوڑا فرق آیا بیچا تھا # تھوڑا کیا ہے # واللہ کا شکر ہے مزدوروں نے بھی کھائے ہیں الله نے کرم کیا رہا ہے اور آپ سنائیں شکر کا کام وام پر سچل رہا ہے # گزارا یار کام وام # ڈی جی ماشاللہ زیادہ رکھا ہوا ہے # سیمنٹ میں کم آرہے کی نہیں ہے کم ہو رہے کم ہو رہے نہیں # نہیں کم کہاں سے وہ جب بکے نہیں رہا سریا ریٹ جو ہے صحیح ہے مگل کا کیا ریٹ آرہا ہے # مگل کا کیا ریٹ آرہا ہے # کیا حال میں ہیں # کتنے ادھر کراچی میں ہیں اب لوگوں کو # مگل تو نہیں آرہا فرصت ہوگیا ہے # منزہ # منزہ وغیرہ وہ ہے یہ 30 پے 25 میں 200 # یہ ریٹ یعنی بندے کو چاہیے تھا # ریٹ مانگ رہا تھا # اچھا نہیں آرہے لوگوں نہیں منگا رہے مطلب لوگوں کو بھی اپنا خراب ہوتا ہے پتا نہیں ہے # اپنا کوئی چاہیے # پہلے رکھو میں ہم تو پتا نہیں ہے روپے 7 روپے دے رہے مطلب ہے لوگوں کو بھی وامران سر خراب ہوگیا ہے پتا نہیں ہے #آپ نے کچھ کامیاب پہلے رکھوں میں ہم تو بندے پے دے رہے ہیں اوس کا ہے موحس کا ہے #موحس کیا چل رہا ہے# موحس کا سیمنٹ کا ہے اور 65 میں خالی کیا اور بچ میں بیچ رہے ہیں #وچاکے کچھ پای ہے #ہاں گاڑی مالی سب کرے ہے #نہیں کرے ہوگا #چلو کلو کرایا کتنوں کا ہے# کرایا کتنوں کا ہے# کرایا جیسے کرایا کرایا # اتنے کے حساب ہوتا ہے نا کرایا کتنے سے کتنے کا کرایا ہوتا ہے # 1200  تک تو یہاں قریب پر مہمار کے اندر ہے آپ کی پاس ابھی مگل پڑا ہوا ہے # مگل ہے اچھا اسکی ہے # ابھی پتا نہیں ہے # علی خان سے چل رہا ہے # اور کیا چلا رہا ہے # پاک لینڈ ہے پاک لینڈ کس سے لے رہا ہے # پاور# نیا ڈیلر آیا ہے # نیا نہیں ہے پاور نہیں ہے بھی یہاں پے # ریٹ اچھی چل رہا ہے # نہیں کام مہنگا یار # لکی تو 1100 میں دے رہے ہیں نا # نہیں آپ کو بھی # 70 میں # 70 میں اور ڈی جی # ڈی جی کم سے دے رہے ہیں پاور لکی برابر ہے پاور لکی برابر ہے اور سمان کرو پاک لینڈ کا ریٹ اوپر ہوا ہے 30  40  میں دے رہے ہیں # 15  # 1215  اچھا تو کھاتا چل رہا ہے اس کے ساتھ # ہاں کھاتا ہے # ڈی جی والے کے ساتھ بھی کھاتا ہے # سب سب # اور کھاتے کے ساتھ # ڈی جی والے کچھ میں یہ کھاتے ہیں # ابھی بہت کم ہو جائے گا # اور پتا نہیں کہ یار اور پتا نہیں کہ # کشھ میں نہیں اٹھایا # نہیں اٹھایا # حالات کل بہت # بہت بہت یار بیٹھ گیا پتا نہیں # بہت بیٹھ گیا بہت صحیح باقی تو بہت معاملہ سخت خراب ہے # کسا ہے بیٹھے کام ہو اسکا # \""
      ],
      "metadata": {
        "id": "YSy2W2Q4WIzI"
      },
      "execution_count": null,
      "outputs": []
    },
    {
      "cell_type": "code",
      "execution_count": null,
      "metadata": {
        "id": "OfpurdUFBXiL"
      },
      "outputs": [],
      "source": [
        "ner_result,summary = extract_cement_entities(tp)"
      ]
    },
    {
      "cell_type": "code",
      "source": [
        "tp"
      ],
      "metadata": {
        "colab": {
          "base_uri": "https://localhost:8080/",
          "height": 105
        },
        "id": "cI8JzrVhZrFw",
        "outputId": "049e6026-39ec-49cc-8dd6-b2c39441696a"
      },
      "execution_count": null,
      "outputs": [
        {
          "output_type": "execute_result",
          "data": {
            "text/plain": [
              "' یار بھائی یار بھائی  شکر ہم کو شکر ہم کو لگاے ہیں کن بونیہ لگاے ہیں الله معاف کرے کس کو مجھے 2 3 ہفتے سے گھر پے تھا الله کا شکر بس # بیماری بہت ہوگی یار # الله معاف کرے اسی وہ باہر ہے بچے گود ہے کچھ نہیں دیکھ رہے ہیں 2 2 3 3 ہفتہ گھر پے بھی اٹھا رہے ہیں # یہ یہ کچھ ہی اسکے # یار یہ ایک مچھا رہے ہیں مچھد سے مدے دیا ہے ڈینگی چکن گونی ہے اس کے ٹیقری میں بیماری الگ رہی ہے اس پر بھرے بھرے ہیں # اچھی نہیں # ڈینگی وغیرہ جو ہے اس سیل پنجاب کی طرف اس طرف ہے تو یہ سب سے زیادہ جو ہے چکن گونی ہے اچھی بخاریہ 3 3 میں اتار دیتا ہے وہ چلو ڈاکٹر میڈیکلی ہوجاتا ہے اس کا عل اس کا علاق نہیں ہے کاموں کا در ترلوں میں در نہیں ہے # یہ ڈم درو بھی یہ شفاہ اس سے ہوجاتا ہے الگ بات تو نہیں دائے گا  لیکن اس سے کام کیا کر رہا ہے کام ہلی ہیں سب چلو # میں نے کہا مزدور کو نہیں دے مزدور تو وہ ہے نا جو روز کمانا روز کھانے والا ہے اس کو نہیں دے ایک دو بندوں کو ہوا تھا سیمنٹ والاقے میں اس نے پتا نہیں کوئی میرے علاقے میں دکان میں کی مہینے کوئی بوری ٹم کرتا ہوا دے رہا ہے مجھے پتا نہیں اس نے بولا یار میرے مزدور گر دیتے ہیں ماشاللہ بوری تھی دوسرے دن کھڑے ہوگئے میں اس کے پاس بوری مجھے اس سے تھوڑا فرق آیا ماشاللہ الله کے پاس کلامی چیز نے تم کیم ہے # الله پر کچھ پاس دیتا ہے # زندگی بھی تھوڑا لیٹ ہوگیا دیتا ہے میں نے ایک دو گولیاں خائی مجھے بھی تھوڑا فرق آیا بیچا تھا # تھوڑا کیا ہے # واللہ کا شکر ہے مزدوروں نے بھی کھائے ہیں الله نے کرم کیا رہا ہے اور آپ سنائیں شکر کا کام وام پر سچل رہا ہے # گزارا یار کام وام # ڈی جی ماشاللہ زیادہ رکھا ہوا ہے # سیمنٹ میں کم آرہے کی نہیں ہے کم ہو رہے کم ہو رہے نہیں # نہیں کم کہاں سے وہ جب بکے نہیں رہا سریا ریٹ جو ہے صحیح ہے مگل کا کیا ریٹ آرہا ہے # مگل کا کیا ریٹ آرہا ہے # کیا حال میں ہیں # کتنے ادھر کراچی میں ہیں اب لوگوں کو # مگل تو نہیں آرہا فرصت ہوگیا ہے # منزہ # منزہ وغیرہ وہ ہے یہ 30 پے 25 میں 200 # یہ ریٹ یعنی بندے کو چاہیے تھا # ریٹ مانگ رہا تھا # اچھا نہیں آرہے لوگوں نہیں منگا رہے مطلب لوگوں کو بھی اپنا خراب ہوتا ہے پتا نہیں ہے # اپنا کوئی چاہیے # پہلے رکھو میں ہم تو پتا نہیں ہے روپے 7 روپے دے رہے مطلب ہے لوگوں کو بھی وامران سر خراب ہوگیا ہے پتا نہیں ہے #آپ نے کچھ کامیاب پہلے رکھوں میں ہم تو بندے پے دے رہے ہیں اوس کا ہے موحس کا ہے #موحس کیا چل رہا ہے# موحس کا سیمنٹ کا ہے اور 65 میں خالی کیا اور بچ میں بیچ رہے ہیں #وچاکے کچھ پای ہے #ہاں گاڑی مالی سب کرے ہے #نہیں کرے ہوگا #چلو کلو کرایا کتنوں کا ہے# کرایا کتنوں کا ہے# کرایا جیسے کرایا کرایا # اتنے کے حساب ہوتا ہے نا کرایا کتنے سے کتنے کا کرایا ہوتا ہے # 1200  تک تو یہاں قریب پر مہمار کے اندر ہے آپ کی پاس ابھی مگل پڑا ہوا ہے # مگل ہے اچھا اسکی ہے # ابھی پتا نہیں ہے # علی خان سے چل رہا ہے # اور کیا چلا رہا ہے # پاک لینڈ ہے پاک لینڈ کس سے لے رہا ہے # پاور# نیا ڈیلر آیا ہے # نیا نہیں ہے پاور نہیں ہے بھی یہاں پے # ریٹ اچھی چل رہا ہے # نہیں کام مہنگا یار # لکی تو 1100 میں دے رہے ہیں نا # نہیں آپ کو بھی # 70 میں # 70 میں اور ڈی جی # ڈی جی کم سے دے رہے ہیں پاور لکی برابر ہے پاور لکی برابر ہے اور سمان کرو پاک لینڈ کا ریٹ اوپر ہوا ہے 30  40  میں دے رہے ہیں # 15  # 1215  اچھا تو کھاتا چل رہا ہے اس کے ساتھ # ہاں کھاتا ہے # ڈی جی والے کے ساتھ بھی کھاتا ہے # سب سب # اور کھاتے کے ساتھ # ڈی جی والے کچھ میں یہ کھاتے ہیں # ابھی بہت کم ہو جائے گا # اور پتا نہیں کہ یار اور پتا نہیں کہ # کشھ میں نہیں اٹھایا # نہیں اٹھایا # حالات کل بہت # بہت بہت یار بیٹھ گیا پتا نہیں # بہت بیٹھ گیا بہت صحیح باقی تو بہت معاملہ سخت خراب ہے # کسا ہے بیٹھے کام ہو اسکا # '"
            ],
            "application/vnd.google.colaboratory.intrinsic+json": {
              "type": "string"
            }
          },
          "metadata": {},
          "execution_count": 15
        }
      ]
    },
    {
      "cell_type": "code",
      "source": [
        "ner_result"
      ],
      "metadata": {
        "colab": {
          "base_uri": "https://localhost:8080/"
        },
        "id": "b4kisZLnWlOA",
        "outputId": "779ed5ce-a649-4872-cd55-bf91a6972aae"
      },
      "execution_count": null,
      "outputs": [
        {
          "output_type": "execute_result",
          "data": {
            "text/plain": [
              "{'DG': {'Landed': '70',\n",
              "  'Retail': '1100',\n",
              "  'Margin': '',\n",
              "  'Sale Quantity': '',\n",
              "  'Stock': '',\n",
              "  'Supplier': ''},\n",
              " 'Lucky': {'Landed': '',\n",
              "  'Retail': '1100',\n",
              "  'Margin': '',\n",
              "  'Sale Quantity': '',\n",
              "  'Stock': '',\n",
              "  'Supplier': ''},\n",
              " 'Thatta': {'Landed': '',\n",
              "  'Retail': '',\n",
              "  'Margin': '',\n",
              "  'Sale Quantity': '',\n",
              "  'Stock': '',\n",
              "  'Supplier': ''},\n",
              " 'PakLand': {'Landed': '1215',\n",
              "  'Retail': '',\n",
              "  'Margin': '',\n",
              "  'Sale Quantity': '',\n",
              "  'Stock': '',\n",
              "  'Supplier': ''},\n",
              " 'Power': {'Landed': '',\n",
              "  'Retail': '',\n",
              "  'Margin': '',\n",
              "  'Sale Quantity': '',\n",
              "  'Stock': '',\n",
              "  'Supplier': ''},\n",
              " 'Falcon': {'Landed': '',\n",
              "  'Retail': '',\n",
              "  'Margin': '',\n",
              "  'Sale Quantity': '',\n",
              "  'Stock': '',\n",
              "  'Supplier': ''},\n",
              " 'Other': {'Landed': '',\n",
              "  'Retail': '',\n",
              "  'Margin': '',\n",
              "  'Sale Quantity': '',\n",
              "  'Stock': '',\n",
              "  'Supplier': ''},\n",
              " 'Payment_Method': ''}"
            ]
          },
          "metadata": {},
          "execution_count": 16
        }
      ]
    },
    {
      "cell_type": "code",
      "source": [
        "from typing_extensions import Text\n",
        "p = Text(ner_result)"
      ],
      "metadata": {
        "id": "4OdElCMKMstn"
      },
      "execution_count": null,
      "outputs": []
    },
    {
      "cell_type": "code",
      "source": [
        "p"
      ],
      "metadata": {
        "colab": {
          "base_uri": "https://localhost:8080/",
          "height": 87
        },
        "id": "mbEnuZ6eM4Kj",
        "outputId": "9acd607e-bb81-416b-8a01-7a7035932573"
      },
      "execution_count": null,
      "outputs": [
        {
          "output_type": "execute_result",
          "data": {
            "text/plain": [
              "\"{'DG': {'Landed': '70', 'Retail': '1100', 'Margin': '', 'Sale Quantity': '', 'Stock': '', 'Supplier': ''}, 'Lucky': {'Landed': '', 'Retail': '1100', 'Margin': '', 'Sale Quantity': '', 'Stock': '', 'Supplier': ''}, 'Thatta': {'Landed': '', 'Retail': '', 'Margin': '', 'Sale Quantity': '', 'Stock': '', 'Supplier': ''}, 'PakLand': {'Landed': '1215', 'Retail': '', 'Margin': '', 'Sale Quantity': '', 'Stock': '', 'Supplier': ''}, 'Power': {'Landed': '', 'Retail': '', 'Margin': '', 'Sale Quantity': '', 'Stock': '', 'Supplier': ''}, 'Falcon': {'Landed': '', 'Retail': '', 'Margin': '', 'Sale Quantity': '', 'Stock': '', 'Supplier': ''}, 'Other': {'Landed': '', 'Retail': '', 'Margin': '', 'Sale Quantity': '', 'Stock': '', 'Supplier': ''}, 'Payment_Method': ''}\""
            ],
            "application/vnd.google.colaboratory.intrinsic+json": {
              "type": "string"
            }
          },
          "metadata": {},
          "execution_count": 18
        }
      ]
    },
    {
      "cell_type": "code",
      "source": [],
      "metadata": {
        "id": "b7pSWgq7NmhQ"
      },
      "execution_count": null,
      "outputs": []
    }
  ],
  "metadata": {
    "accelerator": "GPU",
    "colab": {
      "gpuType": "T4",
      "provenance": [],
      "include_colab_link": true
    },
    "kernelspec": {
      "display_name": "Python 3",
      "name": "python3"
    },
    "language_info": {
      "name": "python"
    }
  },
  "nbformat": 4,
  "nbformat_minor": 0
}